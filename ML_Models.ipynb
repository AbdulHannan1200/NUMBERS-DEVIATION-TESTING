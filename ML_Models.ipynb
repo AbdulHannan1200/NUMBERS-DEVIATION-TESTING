{
 "cells": [
  {
   "cell_type": "code",
   "execution_count": 1,
   "metadata": {},
   "outputs": [],
   "source": [
    "import pickle \n",
    "df=pickle.load(open('bigdata.pkl','rb'))"
   ]
  },
  {
   "cell_type": "code",
   "execution_count": 5,
   "metadata": {},
   "outputs": [],
   "source": [
    "import numpy as np\n",
    "import pandas as pd"
   ]
  },
  {
   "cell_type": "code",
   "execution_count": 2,
   "metadata": {},
   "outputs": [
    {
     "name": "stdout",
     "output_type": "stream",
     "text": [
      "<class 'pandas.core.frame.DataFrame'>\n",
      "Int64Index: 299999 entries, 0 to 299998\n",
      "Data columns (total 2 columns):\n",
      " #   Column  Non-Null Count   Dtype\n",
      "---  ------  --------------   -----\n",
      " 0   X       299999 non-null  int64\n",
      " 1   y       299999 non-null  int64\n",
      "dtypes: int64(2)\n",
      "memory usage: 6.9 MB\n"
     ]
    }
   ],
   "source": [
    "df.info()"
   ]
  },
  {
   "cell_type": "code",
   "execution_count": 3,
   "metadata": {},
   "outputs": [
    {
     "data": {
      "text/html": [
       "<div>\n",
       "<style scoped>\n",
       "    .dataframe tbody tr th:only-of-type {\n",
       "        vertical-align: middle;\n",
       "    }\n",
       "\n",
       "    .dataframe tbody tr th {\n",
       "        vertical-align: top;\n",
       "    }\n",
       "\n",
       "    .dataframe thead th {\n",
       "        text-align: right;\n",
       "    }\n",
       "</style>\n",
       "<table border=\"1\" class=\"dataframe\">\n",
       "  <thead>\n",
       "    <tr style=\"text-align: right;\">\n",
       "      <th></th>\n",
       "      <th>X</th>\n",
       "      <th>y</th>\n",
       "    </tr>\n",
       "  </thead>\n",
       "  <tbody>\n",
       "    <tr>\n",
       "      <th>0</th>\n",
       "      <td>8</td>\n",
       "      <td>36</td>\n",
       "    </tr>\n",
       "    <tr>\n",
       "      <th>1</th>\n",
       "      <td>36</td>\n",
       "      <td>4</td>\n",
       "    </tr>\n",
       "    <tr>\n",
       "      <th>2</th>\n",
       "      <td>4</td>\n",
       "      <td>16</td>\n",
       "    </tr>\n",
       "    <tr>\n",
       "      <th>3</th>\n",
       "      <td>16</td>\n",
       "      <td>7</td>\n",
       "    </tr>\n",
       "    <tr>\n",
       "      <th>4</th>\n",
       "      <td>7</td>\n",
       "      <td>31</td>\n",
       "    </tr>\n",
       "  </tbody>\n",
       "</table>\n",
       "</div>"
      ],
      "text/plain": [
       "    X   y\n",
       "0   8  36\n",
       "1  36   4\n",
       "2   4  16\n",
       "3  16   7\n",
       "4   7  31"
      ]
     },
     "execution_count": 3,
     "metadata": {},
     "output_type": "execute_result"
    }
   ],
   "source": [
    "df.head()"
   ]
  },
  {
   "cell_type": "code",
   "execution_count": 6,
   "metadata": {},
   "outputs": [],
   "source": [
    "Y = pd.get_dummies(df['y']).values"
   ]
  },
  {
   "cell_type": "code",
   "execution_count": 7,
   "metadata": {},
   "outputs": [],
   "source": [
    "from sklearn.model_selection import train_test_split\n",
    "X=df[['X']].values\n",
    "y= df['y'].values\n",
    "#scaled_features\n",
    "#target\n",
    "#X_train, X_test, y_train, y_test = train_test_split(scaled_features,target, test_size=0.25, random_state=42)\n",
    "X_train, X_test, y_train, y_test = train_test_split(X, Y, test_size=0.25, random_state=42)"
   ]
  },
  {
   "cell_type": "code",
   "execution_count": 8,
   "metadata": {},
   "outputs": [],
   "source": [
    "from sklearn import tree\n",
    "clf = tree.DecisionTreeClassifier()\n",
    "clf = clf.fit(X_train, y_train)\n",
    "pred_DT = clf.predict(X_test)"
   ]
  },
  {
   "cell_type": "code",
   "execution_count": 11,
   "metadata": {},
   "outputs": [
    {
     "name": "stdout",
     "output_type": "stream",
     "text": [
      "Individual Accuracy: 0.0\n"
     ]
    },
    {
     "name": "stderr",
     "output_type": "stream",
     "text": [
      "C:\\ProgramData\\Anaconda3\\lib\\site-packages\\sklearn\\metrics\\_classification.py:1272: UndefinedMetricWarning: Precision and F-score are ill-defined and being set to 0.0 in labels with no predicted samples. Use `zero_division` parameter to control this behavior.\n",
      "  _warn_prf(average, modifier, msg_start, len(result))\n",
      "C:\\ProgramData\\Anaconda3\\lib\\site-packages\\sklearn\\metrics\\_classification.py:1272: UndefinedMetricWarning: Precision and F-score are ill-defined and being set to 0.0 due to no predicted samples. Use `zero_division` parameter to control this behavior.\n",
      "  _warn_prf(average, modifier, msg_start, len(result))\n"
     ]
    },
    {
     "name": "stdout",
     "output_type": "stream",
     "text": [
      "Decision Tree Accuracy:  0.0\n",
      "\n",
      "\n",
      "              precision    recall  f1-score   support\n",
      "\n",
      "           0       0.00      0.00      0.00      2061\n",
      "           1       0.00      0.00      0.00      2070\n",
      "           2       0.00      0.00      0.00      2026\n",
      "           3       0.00      0.00      0.00      2024\n",
      "           4       0.00      0.00      0.00      2083\n",
      "           5       0.00      0.00      0.00      1970\n",
      "           6       0.00      0.00      0.00      1974\n",
      "           7       0.00      0.00      0.00      2025\n",
      "           8       0.00      0.00      0.00      1976\n",
      "           9       0.00      0.00      0.00      2025\n",
      "          10       0.00      0.00      0.00      2018\n",
      "          11       0.00      0.00      0.00      2023\n",
      "          12       0.00      0.00      0.00      2026\n",
      "          13       0.00      0.00      0.00      2015\n",
      "          14       0.00      0.00      0.00      2082\n",
      "          15       0.00      0.00      0.00      2049\n",
      "          16       0.00      0.00      0.00      2013\n",
      "          17       0.00      0.00      0.00      2040\n",
      "          18       0.00      0.00      0.00      2056\n",
      "          19       0.00      0.00      0.00      2036\n",
      "          20       0.00      0.00      0.00      1969\n",
      "          21       0.00      0.00      0.00      1976\n",
      "          22       0.00      0.00      0.00      2005\n",
      "          23       0.00      0.00      0.00      1979\n",
      "          24       0.00      0.00      0.00      2008\n",
      "          25       0.00      0.00      0.00      2051\n",
      "          26       0.00      0.00      0.00      2000\n",
      "          27       0.00      0.00      0.00      2040\n",
      "          28       0.00      0.00      0.00      1950\n",
      "          29       0.00      0.00      0.00      2047\n",
      "          30       0.00      0.00      0.00      2034\n",
      "          31       0.00      0.00      0.00      1996\n",
      "          32       0.00      0.00      0.00      2112\n",
      "          33       0.00      0.00      0.00      2044\n",
      "          34       0.00      0.00      0.00      2056\n",
      "          35       0.00      0.00      0.00      2167\n",
      "          36       0.00      0.00      0.00      1974\n",
      "\n",
      "   micro avg       0.00      0.00      0.00     75000\n",
      "   macro avg       0.00      0.00      0.00     75000\n",
      "weighted avg       0.00      0.00      0.00     75000\n",
      " samples avg       0.00      0.00      0.00     75000\n",
      "\n"
     ]
    },
    {
     "name": "stderr",
     "output_type": "stream",
     "text": [
      "C:\\ProgramData\\Anaconda3\\lib\\site-packages\\sklearn\\metrics\\_classification.py:1272: UndefinedMetricWarning: Precision and F-score are ill-defined and being set to 0.0 in samples with no predicted labels. Use `zero_division` parameter to control this behavior.\n",
      "  _warn_prf(average, modifier, msg_start, len(result))\n"
     ]
    }
   ],
   "source": [
    "from sklearn.metrics import confusion_matrix \n",
    "from sklearn.metrics import accuracy_score \n",
    "from sklearn.metrics import classification_report\n",
    "\n",
    "print(\"Individual Accuracy:\",clf.score(X_test, y_test))\n",
    "#results3 = confusion_matrix(y_test, pred_DT)\n",
    "accuracy3=accuracy_score(y_test, pred_DT)\n",
    "report3=classification_report(y_test, pred_DT) \n",
    "#print(results3)\n",
    "print('Decision Tree Accuracy: ',accuracy3)\n",
    "print('\\n')\n",
    "print(report3)"
   ]
  },
  {
   "cell_type": "code",
   "execution_count": 12,
   "metadata": {},
   "outputs": [
    {
     "name": "stdout",
     "output_type": "stream",
     "text": [
      "[0.02693333 0.0273     0.02896667 0.02843333 0.02703333 0.0273\n",
      " 0.0271     0.02883333 0.02756667 0.02740091]\n",
      "0.027686758003044543\n"
     ]
    }
   ],
   "source": [
    "from sklearn.model_selection import cross_val_score\n",
    "scores = cross_val_score(clf,X,y, cv=10)\n",
    "print(scores)\n",
    "print(scores.mean())"
   ]
  },
  {
   "cell_type": "code",
   "execution_count": 15,
   "metadata": {},
   "outputs": [],
   "source": [
    "from sklearn.neighbors import KNeighborsClassifier\n",
    "knn = KNeighborsClassifier()\n",
    "knn.fit(X_train,y_train)\n",
    "knn_pred = knn.predict(X_test)\n",
    "\n"
   ]
  },
  {
   "cell_type": "code",
   "execution_count": 16,
   "metadata": {},
   "outputs": [
    {
     "name": "stdout",
     "output_type": "stream",
     "text": [
      "KNN Accuracy:  0.0007466666666666666\n",
      "\n",
      "\n",
      "              precision    recall  f1-score   support\n",
      "\n",
      "           0       0.00      0.00      0.00      2061\n",
      "           1       0.00      0.00      0.00      2070\n",
      "           2       0.00      0.00      0.00      2026\n",
      "           3       0.00      0.00      0.00      2024\n",
      "           4       0.00      0.00      0.00      2083\n",
      "           5       0.00      0.00      0.00      1970\n",
      "           6       0.00      0.00      0.00      1974\n",
      "           7       0.00      0.00      0.00      2025\n",
      "           8       0.00      0.00      0.00      1976\n",
      "           9       0.00      0.00      0.00      2025\n",
      "          10       0.00      0.00      0.00      2018\n",
      "          11       0.00      0.00      0.00      2023\n",
      "          12       0.00      0.00      0.00      2026\n",
      "          13       0.03      0.03      0.03      2015\n",
      "          14       0.00      0.00      0.00      2082\n",
      "          15       0.00      0.00      0.00      2049\n",
      "          16       0.00      0.00      0.00      2013\n",
      "          17       0.00      0.00      0.00      2040\n",
      "          18       0.00      0.00      0.00      2056\n",
      "          19       0.00      0.00      0.00      2036\n",
      "          20       0.00      0.00      0.00      1969\n",
      "          21       0.00      0.00      0.00      1976\n",
      "          22       0.00      0.00      0.00      2005\n",
      "          23       0.00      0.00      0.00      1979\n",
      "          24       0.00      0.00      0.00      2008\n",
      "          25       0.00      0.00      0.00      2051\n",
      "          26       0.00      0.00      0.00      2000\n",
      "          27       0.00      0.00      0.00      2040\n",
      "          28       0.00      0.00      0.00      1950\n",
      "          29       0.00      0.00      0.00      2047\n",
      "          30       0.00      0.00      0.00      2034\n",
      "          31       0.00      0.00      0.00      1996\n",
      "          32       0.00      0.00      0.00      2112\n",
      "          33       0.00      0.00      0.00      2044\n",
      "          34       0.00      0.00      0.00      2056\n",
      "          35       0.00      0.00      0.00      2167\n",
      "          36       0.00      0.00      0.00      1974\n",
      "\n",
      "   micro avg       0.03      0.00      0.00     75000\n",
      "   macro avg       0.00      0.00      0.00     75000\n",
      "weighted avg       0.00      0.00      0.00     75000\n",
      " samples avg       0.00      0.00      0.00     75000\n",
      "\n"
     ]
    },
    {
     "name": "stderr",
     "output_type": "stream",
     "text": [
      "C:\\ProgramData\\Anaconda3\\lib\\site-packages\\sklearn\\metrics\\_classification.py:1272: UndefinedMetricWarning: Precision and F-score are ill-defined and being set to 0.0 in labels with no predicted samples. Use `zero_division` parameter to control this behavior.\n",
      "  _warn_prf(average, modifier, msg_start, len(result))\n",
      "C:\\ProgramData\\Anaconda3\\lib\\site-packages\\sklearn\\metrics\\_classification.py:1272: UndefinedMetricWarning: Precision and F-score are ill-defined and being set to 0.0 in samples with no predicted labels. Use `zero_division` parameter to control this behavior.\n",
      "  _warn_prf(average, modifier, msg_start, len(result))\n"
     ]
    }
   ],
   "source": [
    "#knn_results = confusion_matrix(y_test, knn_pred)\n",
    "knn_accuracy=accuracy_score(y_test,knn_pred)\n",
    "knn_report=classification_report(y_test,knn_pred) \n",
    "#print(knn_results)\n",
    "print('KNN Accuracy: ',knn_accuracy)\n",
    "print('\\n')\n",
    "print(knn_report)"
   ]
  }
 ],
 "metadata": {
  "kernelspec": {
   "display_name": "Python 3",
   "language": "python",
   "name": "python3"
  },
  "language_info": {
   "codemirror_mode": {
    "name": "ipython",
    "version": 3
   },
   "file_extension": ".py",
   "mimetype": "text/x-python",
   "name": "python",
   "nbconvert_exporter": "python",
   "pygments_lexer": "ipython3",
   "version": "3.7.3"
  }
 },
 "nbformat": 4,
 "nbformat_minor": 4
}
