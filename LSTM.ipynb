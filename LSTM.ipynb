{
 "cells": [
  {
   "cell_type": "code",
   "execution_count": 1,
   "metadata": {
    "colab": {},
    "colab_type": "code",
    "id": "jr05CGjxIeh-"
   },
   "outputs": [],
   "source": [
    "import pickle \n",
    "df=pickle.load(open('bigdata.pkl','rb'))"
   ]
  },
  {
   "cell_type": "code",
   "execution_count": 2,
   "metadata": {},
   "outputs": [
    {
     "data": {
      "text/html": [
       "<div>\n",
       "<style scoped>\n",
       "    .dataframe tbody tr th:only-of-type {\n",
       "        vertical-align: middle;\n",
       "    }\n",
       "\n",
       "    .dataframe tbody tr th {\n",
       "        vertical-align: top;\n",
       "    }\n",
       "\n",
       "    .dataframe thead th {\n",
       "        text-align: right;\n",
       "    }\n",
       "</style>\n",
       "<table border=\"1\" class=\"dataframe\">\n",
       "  <thead>\n",
       "    <tr style=\"text-align: right;\">\n",
       "      <th></th>\n",
       "      <th>X</th>\n",
       "      <th>y</th>\n",
       "    </tr>\n",
       "  </thead>\n",
       "  <tbody>\n",
       "    <tr>\n",
       "      <th>0</th>\n",
       "      <td>8</td>\n",
       "      <td>36</td>\n",
       "    </tr>\n",
       "    <tr>\n",
       "      <th>1</th>\n",
       "      <td>36</td>\n",
       "      <td>4</td>\n",
       "    </tr>\n",
       "    <tr>\n",
       "      <th>2</th>\n",
       "      <td>4</td>\n",
       "      <td>16</td>\n",
       "    </tr>\n",
       "    <tr>\n",
       "      <th>3</th>\n",
       "      <td>16</td>\n",
       "      <td>7</td>\n",
       "    </tr>\n",
       "    <tr>\n",
       "      <th>4</th>\n",
       "      <td>7</td>\n",
       "      <td>31</td>\n",
       "    </tr>\n",
       "  </tbody>\n",
       "</table>\n",
       "</div>"
      ],
      "text/plain": [
       "    X   y\n",
       "0   8  36\n",
       "1  36   4\n",
       "2   4  16\n",
       "3  16   7\n",
       "4   7  31"
      ]
     },
     "execution_count": 2,
     "metadata": {},
     "output_type": "execute_result"
    }
   ],
   "source": [
    "df.head()"
   ]
  },
  {
   "cell_type": "code",
   "execution_count": 3,
   "metadata": {},
   "outputs": [
    {
     "name": "stdout",
     "output_type": "stream",
     "text": [
      "<class 'pandas.core.frame.DataFrame'>\n",
      "Int64Index: 299999 entries, 0 to 299998\n",
      "Data columns (total 2 columns):\n",
      " #   Column  Non-Null Count   Dtype\n",
      "---  ------  --------------   -----\n",
      " 0   X       299999 non-null  int64\n",
      " 1   y       299999 non-null  int64\n",
      "dtypes: int64(2)\n",
      "memory usage: 6.9 MB\n"
     ]
    }
   ],
   "source": [
    "df.info()"
   ]
  },
  {
   "cell_type": "code",
   "execution_count": 4,
   "metadata": {},
   "outputs": [],
   "source": [
    "import pandas as pd\n",
    "# =     \n",
    "import numpy as np"
   ]
  },
  {
   "cell_type": "code",
   "execution_count": 5,
   "metadata": {
    "colab": {
     "base_uri": "https://localhost:8080/",
     "height": 34
    },
    "colab_type": "code",
    "executionInfo": {
     "elapsed": 1132,
     "status": "ok",
     "timestamp": 1588004823764,
     "user": {
      "displayName": "Humna shafqat",
      "photoUrl": "",
      "userId": "03288358737199176165"
     },
     "user_tz": -300
    },
    "id": "uwQ7KuXdLfKp",
    "outputId": "b9adfa09-a2a7-4c3b-ae0e-53c1291635ee"
   },
   "outputs": [
    {
     "data": {
      "text/plain": [
       "299999"
      ]
     },
     "execution_count": 5,
     "metadata": {},
     "output_type": "execute_result"
    }
   ],
   "source": [
    "len(df)"
   ]
  },
  {
   "cell_type": "code",
   "execution_count": 6,
   "metadata": {
    "colab": {},
    "colab_type": "code",
    "id": "NnN2EJdNMLSN"
   },
   "outputs": [],
   "source": [
    "Y = pd.get_dummies(df['y']).values"
   ]
  },
  {
   "cell_type": "code",
   "execution_count": 7,
   "metadata": {
    "colab": {
     "base_uri": "https://localhost:8080/",
     "height": 34
    },
    "colab_type": "code",
    "executionInfo": {
     "elapsed": 855,
     "status": "ok",
     "timestamp": 1588006110153,
     "user": {
      "displayName": "Humna shafqat",
      "photoUrl": "",
      "userId": "03288358737199176165"
     },
     "user_tz": -300
    },
    "id": "OYoOVmsnd3ED",
    "outputId": "c9b2fff5-87fa-41d9-b3aa-019b7351d8fc"
   },
   "outputs": [
    {
     "data": {
      "text/plain": [
       "299999"
      ]
     },
     "execution_count": 7,
     "metadata": {},
     "output_type": "execute_result"
    }
   ],
   "source": [
    "len(df)"
   ]
  },
  {
   "cell_type": "code",
   "execution_count": 8,
   "metadata": {
    "colab": {},
    "colab_type": "code",
    "id": "ZmdbPq54d7t4"
   },
   "outputs": [],
   "source": [
    "from sklearn.model_selection import train_test_split\n",
    "X=df[['X']].values\n",
    "y= df['y'].values\n",
    "#scaled_features\n",
    "#target\n",
    "#X_train, X_test, y_train, y_test = train_test_split(scaled_features,target, test_size=0.25, random_state=42)\n",
    "X_train, X_test, y_train, y_test = train_test_split(X, Y, test_size=0.25, random_state=42)"
   ]
  },
  {
   "cell_type": "code",
   "execution_count": 9,
   "metadata": {
    "colab": {
     "base_uri": "https://localhost:8080/",
     "height": 87
    },
    "colab_type": "code",
    "executionInfo": {
     "elapsed": 944,
     "status": "ok",
     "timestamp": 1588006270490,
     "user": {
      "displayName": "Humna shafqat",
      "photoUrl": "",
      "userId": "03288358737199176165"
     },
     "user_tz": -300
    },
    "id": "37GQ5k2EeAIT",
    "outputId": "4fc64429-6ce5-4b26-9c63-a6c220dd378a"
   },
   "outputs": [
    {
     "name": "stdout",
     "output_type": "stream",
     "text": [
      "[16]\n",
      "224999\n",
      "[0 0 0 0 0 0 0 0 0 0 0 0 0 0 0 0 0 0 0 0 0 1 0 0 0 0 0 0 0 0 0 0 0 0 0 0 0]\n",
      "75000\n"
     ]
    }
   ],
   "source": [
    "print(X_test[0])\n",
    "print(len(X_train))\n",
    "print(y_test[0])\n",
    "print(len(y_test))"
   ]
  },
  {
   "cell_type": "code",
   "execution_count": 10,
   "metadata": {
    "colab": {},
    "colab_type": "code",
    "id": "dBpFqQ1_hAKO"
   },
   "outputs": [],
   "source": [
    "import tensorflow as tf\n",
    "from sklearn.feature_extraction.text import CountVectorizer\n",
    "from tensorflow.keras.preprocessing.text import Tokenizer\n",
    "from tensorflow.keras.preprocessing.sequence import pad_sequences\n",
    "from tensorflow.keras.models import Sequential\n",
    "from tensorflow.keras.layers import Dense, Embedding, LSTM, SpatialDropout1D\n",
    "from sklearn.model_selection import train_test_split\n",
    "from tensorflow.keras.utils import to_categorical\n",
    "import re"
   ]
  },
  {
   "cell_type": "code",
   "execution_count": 11,
   "metadata": {
    "colab": {},
    "colab_type": "code",
    "id": "LEY8uAs6hGBm"
   },
   "outputs": [],
   "source": [
    "from tensorflow.keras.models import Sequential\n",
    "from tensorflow.keras.layers import LSTM, Dense, Dropout, Masking, Embedding"
   ]
  },
  {
   "cell_type": "code",
   "execution_count": 12,
   "metadata": {
    "colab": {
     "base_uri": "https://localhost:8080/",
     "height": 283
    },
    "colab_type": "code",
    "executionInfo": {
     "elapsed": 958,
     "status": "ok",
     "timestamp": 1588006140739,
     "user": {
      "displayName": "Humna shafqat",
      "photoUrl": "",
      "userId": "03288358737199176165"
     },
     "user_tz": -300
    },
    "id": "tZCsU85ZhNea",
    "outputId": "9015d4a5-ca82-4b7e-8362-40edac6cb187"
   },
   "outputs": [
    {
     "name": "stdout",
     "output_type": "stream",
     "text": [
      "Model: \"sequential\"\n",
      "_________________________________________________________________\n",
      "Layer (type)                 Output Shape              Param #   \n",
      "=================================================================\n",
      "embedding (Embedding)        (None, 1, 128)            4736      \n",
      "_________________________________________________________________\n",
      "lstm (LSTM)                  (None, 196)               254800    \n",
      "_________________________________________________________________\n",
      "dense (Dense)                (None, 37)                7289      \n",
      "=================================================================\n",
      "Total params: 266,825\n",
      "Trainable params: 266,825\n",
      "Non-trainable params: 0\n",
      "_________________________________________________________________\n",
      "None\n"
     ]
    }
   ],
   "source": [
    "embed_dim = 128\n",
    "lstm_out = 196\n",
    "max_fatures=37\n",
    "model_lstm = Sequential()\n",
    "model_lstm.add(Embedding(max_fatures, embed_dim,input_length = X.shape[1]))\n",
    "model_lstm.add(LSTM(lstm_out, dropout=0.2, recurrent_dropout=0.2))\n",
    "model_lstm.add(Dense(37,activation='softmax'))\n",
    "model_lstm.compile(loss = 'categorical_crossentropy', optimizer='adam',metrics = ['accuracy'])\n",
    "print(model_lstm.summary())"
   ]
  },
  {
   "cell_type": "code",
   "execution_count": 13,
   "metadata": {
    "colab": {
     "base_uri": "https://localhost:8080/",
     "height": 34
    },
    "colab_type": "code",
    "executionInfo": {
     "elapsed": 898,
     "status": "ok",
     "timestamp": 1588006146024,
     "user": {
      "displayName": "Humna shafqat",
      "photoUrl": "",
      "userId": "03288358737199176165"
     },
     "user_tz": -300
    },
    "id": "oWoTr15nh_bi",
    "outputId": "57e989f3-4739-4c7e-faf2-31e6730532c5"
   },
   "outputs": [
    {
     "name": "stdout",
     "output_type": "stream",
     "text": [
      "224999\n"
     ]
    }
   ],
   "source": [
    "print(len(y_train))"
   ]
  },
  {
   "cell_type": "code",
   "execution_count": 14,
   "metadata": {
    "colab": {},
    "colab_type": "code",
    "id": "Oi_sJ9alhTQj"
   },
   "outputs": [
    {
     "name": "stdout",
     "output_type": "stream",
     "text": [
      "Train on 224999 samples\n",
      "Epoch 1/25\n",
      "224999/224999 [==============================] - 145s 643us/sample - loss: 3.6123 - accuracy: 0.0267\n",
      "Epoch 2/25\n",
      "224999/224999 [==============================] - 129s 572us/sample - loss: 3.6114 - accuracy: 0.0276\n",
      "Epoch 3/25\n",
      "224999/224999 [==============================] - 130s 577us/sample - loss: 3.6112 - accuracy: 0.0280\n",
      "Epoch 4/25\n",
      "224999/224999 [==============================] - 123s 546us/sample - loss: 3.6110 - accuracy: 0.0283\n",
      "Epoch 5/25\n",
      "224999/224999 [==============================] - 129s 573us/sample - loss: 3.6109 - accuracy: 0.0288\n",
      "Epoch 6/25\n",
      "224999/224999 [==============================] - 152s 676us/sample - loss: 3.6106 - accuracy: 0.0292\n",
      "Epoch 7/25\n",
      "224999/224999 [==============================] - 125s 556us/sample - loss: 3.6105 - accuracy: 0.0285\n",
      "Epoch 8/25\n",
      "224999/224999 [==============================] - 121s 540us/sample - loss: 3.6105 - accuracy: 0.0296\n",
      "Epoch 9/25\n",
      "224999/224999 [==============================] - 125s 555us/sample - loss: 3.6105 - accuracy: 0.0290\n",
      "Epoch 10/25\n",
      "224999/224999 [==============================] - 120s 532us/sample - loss: 3.6104 - accuracy: 0.0293\n",
      "Epoch 11/25\n",
      "224999/224999 [==============================] - 142s 633us/sample - loss: 3.6103 - accuracy: 0.0294\n",
      "Epoch 12/25\n",
      "224999/224999 [==============================] - 142s 630us/sample - loss: 3.6103 - accuracy: 0.0298\n",
      "Epoch 13/25\n",
      "224999/224999 [==============================] - 142s 632us/sample - loss: 3.6102 - accuracy: 0.0296\n",
      "Epoch 14/25\n",
      "224999/224999 [==============================] - 149s 662us/sample - loss: 3.6103 - accuracy: 0.0294\n",
      "Epoch 15/25\n",
      "224999/224999 [==============================] - 140s 621us/sample - loss: 3.6102 - accuracy: 0.0294\n",
      "Epoch 16/25\n",
      "224999/224999 [==============================] - 135s 601us/sample - loss: 3.6102 - accuracy: 0.0295\n",
      "Epoch 17/25\n",
      "224999/224999 [==============================] - 115s 513us/sample - loss: 3.6101 - accuracy: 0.0293\n",
      "Epoch 18/25\n",
      "224999/224999 [==============================] - 132s 588us/sample - loss: 3.6102 - accuracy: 0.0288\n",
      "Epoch 19/25\n",
      "224999/224999 [==============================] - 120s 534us/sample - loss: 3.6101 - accuracy: 0.0296\n",
      "Epoch 20/25\n",
      "224999/224999 [==============================] - 123s 549us/sample - loss: 3.6101 - accuracy: 0.0291\n",
      "Epoch 21/25\n",
      "224999/224999 [==============================] - 163s 725us/sample - loss: 3.6100 - accuracy: 0.0302\n",
      "Epoch 22/25\n",
      "224999/224999 [==============================] - 190s 846us/sample - loss: 3.6100 - accuracy: 0.0298\n",
      "Epoch 23/25\n",
      "224999/224999 [==============================] - 203s 900us/sample - loss: 3.6100 - accuracy: 0.0296\n",
      "Epoch 24/25\n",
      "224999/224999 [==============================] - 215s 956us/sample - loss: 3.6100 - accuracy: 0.0297\n",
      "Epoch 25/25\n",
      "224999/224999 [==============================] - 176s 780us/sample - loss: 3.6099 - accuracy: 0.0300\n"
     ]
    }
   ],
   "source": [
    "history = model_lstm.fit(X_train,  y_train, \n",
    "                    batch_size=20, epochs=25)"
   ]
  },
  {
   "cell_type": "code",
   "execution_count": 15,
   "metadata": {},
   "outputs": [],
   "source": [
    "import h5py"
   ]
  },
  {
   "cell_type": "code",
   "execution_count": 17,
   "metadata": {},
   "outputs": [],
   "source": [
    "model_lstm.save('model_lstm.h5')"
   ]
  },
  {
   "cell_type": "code",
   "execution_count": 18,
   "metadata": {},
   "outputs": [
    {
     "name": "stdout",
     "output_type": "stream",
     "text": [
      "Model: \"sequential\"\n",
      "_________________________________________________________________\n",
      "Layer (type)                 Output Shape              Param #   \n",
      "=================================================================\n",
      "embedding (Embedding)        (None, 1, 128)            4736      \n",
      "_________________________________________________________________\n",
      "lstm (LSTM)                  (None, 196)               254800    \n",
      "_________________________________________________________________\n",
      "dense (Dense)                (None, 37)                7289      \n",
      "=================================================================\n",
      "Total params: 266,825\n",
      "Trainable params: 266,825\n",
      "Non-trainable params: 0\n",
      "_________________________________________________________________\n",
      "None\n"
     ]
    }
   ],
   "source": [
    "from tensorflow.keras.models import load_model\n",
    "\n",
    "model_lstm = load_model('model_lstm.h5')\n",
    "\n",
    "print(model_lstm.summary())"
   ]
  },
  {
   "cell_type": "code",
   "execution_count": 19,
   "metadata": {},
   "outputs": [
    {
     "data": {
      "text/plain": [
       "array([[0.026758  , 0.02698877, 0.02516126, 0.02724707, 0.02669068,\n",
       "        0.02769756, 0.02940816, 0.02636098, 0.02642282, 0.02580639,\n",
       "        0.02726906, 0.02732836, 0.02642709, 0.0282108 , 0.02847512,\n",
       "        0.02647971, 0.02611211, 0.02761127, 0.02642914, 0.02676101,\n",
       "        0.0281273 , 0.02736177, 0.02659513, 0.02768728, 0.0258515 ,\n",
       "        0.0275525 , 0.02609941, 0.02834748, 0.02682265, 0.02622822,\n",
       "        0.02780842, 0.02756553, 0.02755201, 0.02614592, 0.02727626,\n",
       "        0.0258515 , 0.02748169]], dtype=float32)"
      ]
     },
     "execution_count": 19,
     "metadata": {},
     "output_type": "execute_result"
    }
   ],
   "source": [
    "model_lstm.predict([2])"
   ]
  }
 ],
 "metadata": {
  "colab": {
   "authorship_tag": "ABX9TyPTN25UmSCYIsxz1CwGoOVv",
   "name": "fiver.ipynb",
   "provenance": []
  },
  "kernelspec": {
   "display_name": "Python 3",
   "language": "python",
   "name": "python3"
  },
  "language_info": {
   "codemirror_mode": {
    "name": "ipython",
    "version": 3
   },
   "file_extension": ".py",
   "mimetype": "text/x-python",
   "name": "python",
   "nbconvert_exporter": "python",
   "pygments_lexer": "ipython3",
   "version": "3.7.3"
  }
 },
 "nbformat": 4,
 "nbformat_minor": 1
}
