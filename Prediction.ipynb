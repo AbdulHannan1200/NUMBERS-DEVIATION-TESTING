{
 "cells": [
  {
   "cell_type": "code",
   "execution_count": 6,
   "metadata": {},
   "outputs": [],
   "source": [
    "import pickle \n",
    "import numpy as np\n",
    "import pandas as pd\n",
    "import h5py\n",
    "import matplotlib.pyplot as plt\n",
    "from tensorflow.keras.models import load_model"
   ]
  },
  {
   "cell_type": "code",
   "execution_count": 2,
   "metadata": {},
   "outputs": [],
   "source": [
    "df=pickle.load(open('bigdata.pkl','rb'))"
   ]
  },
  {
   "cell_type": "code",
   "execution_count": 3,
   "metadata": {},
   "outputs": [],
   "source": [
    "model_lstm = load_model('model_lstm.h5')"
   ]
  },
  {
   "cell_type": "code",
   "execution_count": 4,
   "metadata": {},
   "outputs": [],
   "source": [
    "def Make_Tuple(res,output_lst):\n",
    "    tuple_lst = list()\n",
    "    for tup in range(len(res)):\n",
    "        inner = res[tup]\n",
    "        outer = output_lst[inner]\n",
    "        tuple_lst.append([inner,outer])\n",
    "        \n",
    "    return tuple_lst\n",
    "        "
   ]
  },
  {
   "cell_type": "code",
   "execution_count": 21,
   "metadata": {},
   "outputs": [],
   "source": [
    "def Predict_Classes(number,N = 6):\n",
    "    output_lst = model_lstm.predict([number])\n",
    "    output_lst = list(output_lst[0])\n",
    "  \n",
    "    res = sorted(range(len(output_lst)), key = lambda sub: output_lst[sub])[-N:] \n",
    "\n",
    "    print(\"Indices list of max \"+ str(N) +\" elements is : \" + str(res))\n",
    "    \n",
    "    result_tuples = Make_Tuple(res,output_lst)\n",
    "    \n",
    "    return result_tuples,res\n",
    "    "
   ]
  },
  {
   "cell_type": "code",
   "execution_count": 7,
   "metadata": {},
   "outputs": [],
   "source": [
    "def Plot_Graph(output):\n",
    "    X_graph = list()\n",
    "    y_graph = list()\n",
    "    for i in range(len(output)):\n",
    "        X_graph.append(output[i][0])\n",
    "        y_graph.append(output[i][1])\n",
    "        \n",
    "    plt.scatter(X_graph,y_graph)\n",
    "    plt.show()\n",
    "        \n",
    "    "
   ]
  },
  {
   "cell_type": "code",
   "execution_count": 10,
   "metadata": {},
   "outputs": [
    {
     "name": "stdout",
     "output_type": "stream",
     "text": [
      "The original list is : [0.027723083, 0.027143022, 0.026008489, 0.028039433, 0.024280299, 0.027679775, 0.028971154, 0.027819889, 0.025464343, 0.024828222, 0.0294661, 0.028448083, 0.026297651, 0.026990386, 0.027717987, 0.027343001, 0.027267901, 0.027635468, 0.025696162, 0.025672972, 0.027291272, 0.027966993, 0.027073955, 0.0277122, 0.024527349, 0.030159844, 0.027134866, 0.029330907, 0.02542518, 0.025768854, 0.025755601, 0.025831632, 0.028858742, 0.024525149, 0.028380688, 0.025449866, 0.028313458]\n",
      "Indices list of max N elements is : [11, 32, 6, 27, 10, 25]\n"
     ]
    },
    {
     "data": {
      "image/png": "[encoded data removed]",
      "text/plain": [
       "<Figure size 432x288 with 1 Axes>"
      ]
     },
     "metadata": {
      "needs_background": "light"
     },
     "output_type": "display_data"
    }
   ],
   "source": [
    "output,res = Predict_Classes(1)\n",
    "Plot_Graph(output)"
   ]
  },
  {
   "cell_type": "code",
   "execution_count": 26,
   "metadata": {},
   "outputs": [],
   "source": [
    "def Input_Here():\n",
    "    number = int(input(\"Enter a Number: \"))\n",
    "    choice = input(\"You want to select the count of probablitic next number?\\n*Default is 6*\\nIf yes press Y else N: \").lower()\n",
    "    if choice=='y':\n",
    "        future_count = int(input(\"Count of top probability of next number: \"))\n",
    "        output,res = Predict_Classes(number,future_count)\n",
    "    else:\n",
    "        output,res = Predict_Classes(number)\n",
    "    for i in range(len(output)):\n",
    "        num =output[i][0]\n",
    "        prob = output[i][1]*100\n",
    "        print(\"Probability of \"+str(num) + \" is \" + str(prob))\n",
    "    return output"
   ]
  },
  {
   "cell_type": "code",
   "execution_count": 28,
   "metadata": {},
   "outputs": [
    {
     "name": "stdout",
     "output_type": "stream",
     "text": [
      "Enter a Number: 10\n",
      "You want to select the count of probablitic next number?\n",
      "*Default is 6*\n",
      "If yes press Y else N: y\n",
      "Count of top probability of next number: 10\n",
      "Indices list of max 10 elements is : [20, 10, 36, 17, 11, 25, 6, 34, 27, 14]\n",
      "Probability of 20 is 2.78624314814806\n",
      "Probability of 10 is 2.8063595294952393\n",
      "Probability of 36 is 2.8161952272057533\n",
      "Probability of 17 is 2.818419225513935\n",
      "Probability of 11 is 2.8194744139909744\n",
      "Probability of 25 is 2.830706723034382\n",
      "Probability of 6 is 2.832312695682049\n",
      "Probability of 34 is 2.8402723371982574\n",
      "Probability of 27 is 2.859283611178398\n",
      "Probability of 14 is 2.934851311147213\n"
     ]
    }
   ],
   "source": [
    "inp = Input_Here()"
   ]
  },
  {
   "cell_type": "code",
   "execution_count": 35,
   "metadata": {},
   "outputs": [],
   "source": [
    "def User_Input():\n",
    "    cond = True\n",
    "    while(cond):\n",
    "        ch = input(\"Do you want to input?\\nIf yes press Y else N: \").lower()\n",
    "        if ch == 'y':\n",
    "            Input_Here()\n",
    "            cond = True\n",
    "        elif ch == 'n':\n",
    "            cond = False\n",
    "        elif ch!= 'y':\n",
    "            cond = False\n",
    "           "
   ]
  },
  {
   "cell_type": "code",
   "execution_count": 37,
   "metadata": {},
   "outputs": [
    {
     "name": "stdout",
     "output_type": "stream",
     "text": [
      "Do you want to input?\n",
      "If yes press Y else N: y\n",
      "Enter a Number: 4\n",
      "You want to select the count of probablitic next number?\n",
      "*Default is 6*\n",
      "If yes press Y else N: n\n",
      "Indices list of max 6 elements is : [23, 34, 1, 6, 13, 17]\n",
      "Probability of 23 is 2.97296866774559\n",
      "Probability of 34 is 2.9828576371073723\n",
      "Probability of 1 is 3.0270127579569817\n",
      "Probability of 6 is 3.0992724001407623\n",
      "Probability of 13 is 3.146277740597725\n",
      "Probability of 17 is 3.467129170894623\n",
      "Do you want to input?\n",
      "If yes press Y else N: 2\n"
     ]
    }
   ],
   "source": [
    "User_Input()"
   ]
  },
  {
   "cell_type": "code",
   "execution_count": null,
   "metadata": {},
   "outputs": [],
   "source": []
  }
 ],
 "metadata": {
  "kernelspec": {
   "display_name": "Python 3",
   "language": "python",
   "name": "python3"
  },
  "language_info": {
   "codemirror_mode": {
    "name": "ipython",
    "version": 3
   },
   "file_extension": ".py",
   "mimetype": "text/x-python",
   "name": "python",
   "nbconvert_exporter": "python",
   "pygments_lexer": "ipython3",
   "version": "3.7.3"
  }
 },
 "nbformat": 4,
 "nbformat_minor": 4
}
