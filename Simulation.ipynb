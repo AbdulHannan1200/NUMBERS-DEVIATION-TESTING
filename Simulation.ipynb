{
 "cells": [
  {
   "cell_type": "code",
   "execution_count": 1,
   "metadata": {},
   "outputs": [],
   "source": [
    "import pickle \n",
    "import numpy as np\n",
    "import pandas as pd\n",
    "import h5py\n",
    "import matplotlib.pyplot as plt\n",
    "from tensorflow.keras.models import load_model"
   ]
  },
  {
   "cell_type": "code",
   "execution_count": 2,
   "metadata": {},
   "outputs": [],
   "source": [
    "from random import seed\n",
    "from random import randint\n",
    "# seed random number generator\n",
    "seed(1)"
   ]
  },
  {
   "cell_type": "code",
   "execution_count": 3,
   "metadata": {},
   "outputs": [],
   "source": [
    "import pandas as pd\n",
    "# =     \n",
    "import numpy as np"
   ]
  },
  {
   "cell_type": "code",
   "execution_count": 4,
   "metadata": {},
   "outputs": [],
   "source": [
    "from collections import Counter"
   ]
  },
  {
   "cell_type": "code",
   "execution_count": 5,
   "metadata": {},
   "outputs": [],
   "source": [
    "import operator"
   ]
  },
  {
   "cell_type": "code",
   "execution_count": 6,
   "metadata": {},
   "outputs": [],
   "source": [
    "df=pickle.load(open('bigdata.pkl','rb'))"
   ]
  },
  {
   "cell_type": "code",
   "execution_count": 7,
   "metadata": {},
   "outputs": [],
   "source": [
    "model_lstm = load_model('model_lstm.h5')"
   ]
  },
  {
   "cell_type": "code",
   "execution_count": 8,
   "metadata": {},
   "outputs": [],
   "source": [
    "def Predict_Classes(number,N = 18):\n",
    "    output_lst = model_lstm.predict([number])\n",
    "    output_lst = list(output_lst[0])\n",
    "  \n",
    "    res = sorted(range(len(output_lst)), key = lambda sub: output_lst[sub])[-N:] \n",
    "\n",
    "    \n",
    "    return res\n",
    "    "
   ]
  },
  {
   "cell_type": "code",
   "execution_count": 9,
   "metadata": {},
   "outputs": [],
   "source": [
    "def cond_A(user):\n",
    "    Intervals_A = 1\n",
    "    #counter_A = 0\n",
    "    predict_list_Algo_A = list()\n",
    "    df_lst=list()\n",
    "    \n",
    "    for i in range(user):\n",
    "        value = randint(0, 36)\n",
    "        print(i)\n",
    "        print(\"Value: \",value)\n",
    "        print(\"Value Presnet in Prediction List: \",predict_list_Algo_A)\n",
    "        if i == 0:\n",
    "            output = Predict_Classes(value)\n",
    "            predict_list_Algo_A = output\n",
    "            \n",
    "        else:\n",
    "            if value in predict_list_Algo_A:\n",
    "                \n",
    "                print(\"Number Found: \",value)\n",
    "                print(\"Interval: \",Intervals_A)\n",
    "                \n",
    "                df_lst.append(Intervals_A)\n",
    "                Intervals_A = 1\n",
    "                \n",
    "                output = Predict_Classes(value)\n",
    "                \n",
    "                \n",
    "                print(\"Next Prediction List: \",output)\n",
    "                predict_list_Algo_A = output\n",
    "\n",
    "            else:\n",
    "                Intervals_A = Intervals_A + 1\n",
    "       \n",
    "    print(\"Output: \",df_lst)\n",
    "    return df_lst\n",
    "    "
   ]
  },
  {
   "cell_type": "code",
   "execution_count": 45,
   "metadata": {},
   "outputs": [],
   "source": [
    "def cond_B(user):\n",
    "    temp_lst = list()\n",
    "    count_True = 0\n",
    "    count_False = 0\n",
    "    predict_list_Algo_B = list()\n",
    "    \n",
    "    for i in range(user):\n",
    "        value = randint(0, 36)\n",
    "        \n",
    "        print(\"Value: \",value)\n",
    "        print(\"Value Presnet in Prediction List: \",predict_list_Algo_B)\n",
    "        if value in predict_list_Algo_B:\n",
    "            count_True = count_True + 1\n",
    "            print(\"Count True increase\",count_True)\n",
    "        else:\n",
    "            count_False = count_False + 1\n",
    "            print(\"Count False increase\",count_False)\n",
    "            \n",
    "            \n",
    "        output = Predict_Classes(value)\n",
    "        print(i,value,output)\n",
    "        predict_list_Algo_B = output \n",
    "\n",
    "    print(count_True)\n",
    "    print(count_False)\n",
    "    return count_True,count_False"
   ]
  },
  {
   "cell_type": "code",
   "execution_count": 46,
   "metadata": {},
   "outputs": [],
   "source": [
    "def cond_C(user):\n",
    "    temp_lst = list()\n",
    "    df_lst_C = list()\n",
    "    Intervals_C = 1\n",
    "    predict_list_Algo_C = list()\n",
    "    \n",
    "    for i in range(user):\n",
    "        value = randint(0, 36)\n",
    "        if i == 0:\n",
    "            output = Predict_Classes(value)\n",
    "            predict_list_Algo_C = output\n",
    "            Intervals_C = 1\n",
    "            \n",
    "        else:\n",
    "            print(\"Value: \",value)\n",
    "            print(\"Intervals\",Intervals_C)\n",
    "            print(\"Value Presnet in Prediction List: \",predict_list_Algo_C)\n",
    "            if value in predict_list_Algo_C:\n",
    "                print(\"Intervals\",Intervals_C)\n",
    "                df_lst_C.append(Intervals_C)\n",
    "                Intervals_C = 1\n",
    "            else:\n",
    "                Intervals_C = Intervals_C + 1\n",
    "                print(\"Intervals Increase\",Intervals_C)\n",
    "\n",
    "\n",
    "            output = Predict_Classes(value)\n",
    "            #print(i,value,output)\n",
    "            predict_list_Algo_C = output \n",
    "\n",
    "   \n",
    "    return df_lst_C"
   ]
  },
  {
   "cell_type": "code",
   "execution_count": 47,
   "metadata": {},
   "outputs": [],
   "source": [
    "def Simulation_Input():\n",
    "    \n",
    "    user = int(input(\"Enter number of simulation you want: \"))\n",
    "    algo = input(\"Enter which algorithm you wanna use A, B or C: \").lower()\n",
    "    \n",
    "    if algo == 'a':\n",
    "        df_lst = cond_A(user)\n",
    "        dictionary=Counter(df_lst)\n",
    "        dictionary=dict(dictionary)\n",
    "        print(\"Dictionary Output: \",dictionary)\n",
    "        sorted_d = dict(sorted(dictionary.items(), key=operator.itemgetter(0)))\n",
    "        df = pd.DataFrame(sorted_d.items())\n",
    "        df.columns=[\"Intervals\",\"Number Of Count\"]\n",
    "        # create excel writer object\n",
    "        writer = pd.ExcelWriter('output.xlsx')\n",
    "        # write dataframe to excel\n",
    "        df.to_excel(writer,'Sheet1')\n",
    "        # save the excel\n",
    "        writer.save()\n",
    "        print('DataFrame is written successfully to Excel File.')\n",
    "        \n",
    "    elif algo == 'b':\n",
    "        df = pd.DataFrame()\n",
    "        count_True,count_False = cond_B(user)\n",
    "        df.loc[0,'True Predicted'] = int(count_True)\n",
    "        df.loc[0,'False Predicted'] = int(count_False)\n",
    "        \n",
    "        # create excel writer object\n",
    "        writer = pd.ExcelWriter('output.xlsx')\n",
    "        # write dataframe to excel\n",
    "        df.to_excel(writer,'Sheet2')\n",
    "        # save the excel\n",
    "        writer.save()\n",
    "        print('DataFrame is written successfully to Excel File.')\n",
    "        print(\"Data Frame: \",df)\n",
    "        \n",
    "    elif algo == 'c':\n",
    "        df_lst_C = cond_C(user)\n",
    "        dictionary_C=Counter(df_lst_C)\n",
    "        dictionary_C=dict(dictionary_C)\n",
    "        print(\"Dictionary Output: \",dictionary_C)\n",
    "        sorted_d_c = dict(sorted(dictionary_C.items(), key=operator.itemgetter(0)))\n",
    "        df_c = pd.DataFrame(sorted_d_c.items())\n",
    "        df_c.columns=[\"Intervals\",\"Number Of Count\"]\n",
    "        \n",
    "        # create excel writer object\n",
    "        writer = pd.ExcelWriter('output.xlsx')\n",
    "        # write dataframe to excel\n",
    "        df_c.to_excel(writer,'Sheet3')\n",
    "        # save the excel\n",
    "        writer.save()\n",
    "        print('DataFrame is written successfully to Excel File.')\n",
    "        print(\"Data Frame: \",df_c)"
   ]
  },
  {
   "cell_type": "code",
   "execution_count": 49,
   "metadata": {},
   "outputs": [
    {
     "name": "stdout",
     "output_type": "stream",
     "text": [
      "Enter number of simulation you want: 10\n",
      "Enter which algorithm you wanna use A, B or C: b\n",
      "Value:  22\n",
      "Value Presnet in Prediction List:  []\n",
      "Count False increase 1\n",
      "0 22 [23, 12, 11, 22, 34, 31, 32, 3, 25, 5, 13, 36, 21, 20, 27, 30, 6, 14]\n",
      "Value:  26\n",
      "Value Presnet in Prediction List:  [23, 12, 11, 22, 34, 31, 32, 3, 25, 5, 13, 36, 21, 20, 27, 30, 6, 14]\n",
      "Count False increase 2\n",
      "1 26 [3, 36, 28, 17, 23, 21, 27, 25, 11, 5, 10, 20, 32, 14, 34, 13, 30, 6]\n",
      "Value:  22\n",
      "Value Presnet in Prediction List:  [3, 36, 28, 17, 23, 21, 27, 25, 11, 5, 10, 20, 32, 14, 34, 13, 30, 6]\n",
      "Count False increase 3\n",
      "2 22 [23, 12, 11, 22, 34, 31, 32, 3, 25, 5, 13, 36, 21, 20, 27, 30, 6, 14]\n",
      "Value:  0\n",
      "Value Presnet in Prediction List:  [23, 12, 11, 22, 34, 31, 32, 3, 25, 5, 13, 36, 21, 20, 27, 30, 6, 14]\n",
      "Count False increase 4\n",
      "3 0 [29, 33, 27, 36, 20, 28, 12, 13, 0, 17, 11, 22, 16, 32, 34, 6, 3, 14]\n",
      "Value:  34\n",
      "Value Presnet in Prediction List:  [29, 33, 27, 36, 20, 28, 12, 13, 0, 17, 11, 22, 16, 32, 34, 6, 3, 14]\n",
      "Count True increase 1\n",
      "4 34 [33, 28, 18, 15, 29, 9, 17, 34, 27, 30, 22, 35, 10, 32, 21, 13, 5, 6]\n",
      "Value:  34\n",
      "Value Presnet in Prediction List:  [33, 28, 18, 15, 29, 9, 17, 34, 27, 30, 22, 35, 10, 32, 21, 13, 5, 6]\n",
      "Count True increase 2\n",
      "5 34 [33, 28, 18, 15, 29, 9, 17, 34, 27, 30, 22, 35, 10, 32, 21, 13, 5, 6]\n",
      "Value:  21\n",
      "Value Presnet in Prediction List:  [33, 28, 18, 15, 29, 9, 17, 34, 27, 30, 22, 35, 10, 32, 21, 13, 5, 6]\n",
      "Count True increase 3\n",
      "6 21 [25, 4, 3, 5, 10, 17, 22, 20, 8, 29, 28, 21, 30, 14, 34, 19, 13, 6]\n",
      "Value:  29\n",
      "Value Presnet in Prediction List:  [25, 4, 3, 5, 10, 17, 22, 20, 8, 29, 28, 21, 30, 14, 34, 19, 13, 6]\n",
      "Count True increase 4\n",
      "7 29 [29, 11, 0, 32, 13, 31, 7, 4, 19, 25, 36, 23, 10, 14, 30, 34, 6, 27]\n",
      "Value:  1\n",
      "Value Presnet in Prediction List:  [29, 11, 0, 32, 13, 31, 7, 4, 19, 25, 36, 23, 10, 14, 30, 34, 6, 27]\n",
      "Count False increase 5\n",
      "8 1 [20, 15, 17, 5, 23, 14, 0, 7, 21, 3, 36, 34, 11, 32, 6, 27, 10, 25]\n",
      "Value:  14\n",
      "Value Presnet in Prediction List:  [20, 15, 17, 5, 23, 14, 0, 7, 21, 3, 36, 34, 11, 32, 6, 27, 10, 25]\n",
      "Count True increase 5\n",
      "9 14 [20, 2, 27, 0, 35, 25, 22, 15, 28, 7, 32, 16, 31, 19, 13, 21, 5, 6]\n",
      "5\n",
      "5\n",
      "DataFrame is written successfully to Excel File.\n",
      "Data Frame:     True Predicted  False Predicted\n",
      "0             5.0              5.0\n"
     ]
    }
   ],
   "source": [
    "Simulation_Input()"
   ]
  },
  {
   "cell_type": "code",
   "execution_count": null,
   "metadata": {},
   "outputs": [],
   "source": []
  }
 ],
 "metadata": {
  "kernelspec": {
   "display_name": "Python 3",
   "language": "python",
   "name": "python3"
  },
  "language_info": {
   "codemirror_mode": {
    "name": "ipython",
    "version": 3
   },
   "file_extension": ".py",
   "mimetype": "text/x-python",
   "name": "python",
   "nbconvert_exporter": "python",
   "pygments_lexer": "ipython3",
   "version": "3.7.3"
  }
 },
 "nbformat": 4,
 "nbformat_minor": 4
}
